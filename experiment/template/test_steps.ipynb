{
 "cells": [
  {
   "cell_type": "code",
   "execution_count": 1,
   "metadata": {},
   "outputs": [],
   "source": [
    "import os\n",
    "import pandas as pd\n",
    "import numpy as np\n",
    "import matplotlib.pyplot as plt\n",
    "import matplotlib.style as style\n",
    "import seaborn as sns\n",
    "\n",
    "# from collections import deque\n",
    "# from scipy.stats import linregress\n",
    "# from scipy.optimize import curve_fit\n",
    "# import math\n",
    "# from scipy import stats\n",
    "\n",
    "import logging\n",
    "import traceback\n",
    "import json\n",
    "\n",
    "import utils.step_utils as su\n",
    "import utils.file_utils as fu\n",
    "import utils.config_utils as cu\n",
    "import utils.step_init as step_init\n",
    "import step_control"
   ]
  },
  {
   "cell_type": "code",
   "execution_count": 2,
   "metadata": {},
   "outputs": [],
   "source": [
    "EXP_NAME = 'data'\n",
    "SAVE_PATH = os.getcwd()\n",
    "EXP_DIR = os.path.join(SAVE_PATH, EXP_NAME)\n",
    "PUMP_CAL_PATH = os.path.join(SAVE_PATH, 'pump_cal.json')\n",
    "\n",
    "EXCEL_CONFIG_FILE = \"experiment_configurations.xlsx\"\n",
    "vials = [0,1,2,3,4,5,6,7,8,9,10,11,12,13,14,15]"
   ]
  },
  {
   "cell_type": "code",
   "execution_count": 3,
   "metadata": {},
   "outputs": [],
   "source": [
    "logger = logging.getLogger(__name__)\n",
    "log_name = os.path.join(EXP_DIR, 'evolver.log')\n",
    "def setup_logging(filename, quiet, verbose):\n",
    "    if quiet:\n",
    "        logging.basicConfig(level=logging.CRITICAL + 10)\n",
    "    else:\n",
    "        if verbose == 0:\n",
    "            level = logging.INFO\n",
    "        elif verbose >= 1:\n",
    "            level = logging.DEBUG\n",
    "        logging.basicConfig(format='%(asctime)s - %(name)s - [%(levelname)s] '\n",
    "                            '- %(message)s',\n",
    "                            datefmt='%Y-%m-%d %H:%M:%S',\n",
    "                            filename=filename,\n",
    "                            level=level)\n",
    "setup_logging(log_name, False, False)\n",
    "\n",
    "class EvolverNamespace():\n",
    "    start_time = None\n",
    "    use_blank = False\n",
    "    OD_initial = None\n",
    "    experiment_params = None\n",
    "    ip_address = None\n",
    "    exp_dir = EXP_DIR\n",
    "\n",
    "    def stop_exp(self):\n",
    "        \"STOPPED EXPERIMENT\"\n",
    "    \n",
    "    def get_flow_rate(self):\n",
    "        pump_cal = None\n",
    "        with open(PUMP_CAL_PATH) as f:\n",
    "            pump_cal = json.load(f)\n",
    "        return pump_cal['coefficients']\n",
    "    \n",
    "    def calc_growth_rate(self, vial, gr_start, elapsed_time):\n",
    "        ODfile_name =  \"vial{0}_OD.txt\".format(vial)\n",
    "        # Grab Data and make setpoint\n",
    "        OD_path = os.path.join(EXP_DIR, 'OD', ODfile_name)\n",
    "        OD_data = np.genfromtxt(OD_path, delimiter=',')\n",
    "        raw_time = OD_data[:, 0]\n",
    "        raw_OD = OD_data[:, 1]\n",
    "        raw_time = raw_time[np.isfinite(raw_OD)]\n",
    "        raw_OD = raw_OD[np.isfinite(raw_OD)]\n",
    "\n",
    "        # Trim points prior to gr_start\n",
    "        trim_time = raw_time[np.nonzero(np.where(raw_time > gr_start, 1, 0))]\n",
    "        trim_OD = raw_OD[np.nonzero(np.where(raw_time > gr_start, 1, 0))]\n",
    "\n",
    "        # Take natural log, calculate slope\n",
    "        log_OD = np.log(trim_OD)\n",
    "        slope, intercept, r_value, p_value, std_err = linregress(\n",
    "            trim_time[np.isfinite(log_OD)],\n",
    "            log_OD[np.isfinite(log_OD)])\n",
    "        logger.debug('growth rate for vial %s: %.2f' % (vial, slope))\n",
    "\n",
    "        # Save slope to file\n",
    "        file_name =  \"vial{0}_gr.txt\".format(vial)\n",
    "        gr_path = os.path.join(EXP_DIR, 'growthrate', file_name)\n",
    "        text_file = open(gr_path, \"a+\")\n",
    "        text_file.write(\"{0},{1}\\n\".format(elapsed_time, slope))\n",
    "        text_file.close()\n",
    "\n",
    "eVOLVER = EvolverNamespace()"
   ]
  },
  {
   "cell_type": "code",
   "execution_count": 4,
   "metadata": {},
   "outputs": [],
   "source": [
    "configs = cu.load_excel_configs(EXCEL_CONFIG_FILE)\n",
    "elapsed_time = 300000\n",
    "# step_init.validate_selection_parameters(configs['selection-step_generation'], ) # Validate the selection parameters TODO: add logger and make this work\n",
    "step_init.update_selection_configs(elapsed_time, vials, configs, logger, eVOLVER)\n",
    "# step_init.plot_steps(vials, 'selection-steps', 'Selection', eVOLVER.exp_dir)"
   ]
  },
  {
   "cell_type": "code",
   "execution_count": 5,
   "metadata": {},
   "outputs": [
    {
     "data": {
      "text/plain": [
       "'40'"
      ]
     },
     "execution_count": 5,
     "metadata": {},
     "output_type": "execute_result"
    }
   ],
   "source": [
    "fu.labeled_last_n_lines('selection-control', 2, 1, EXP_DIR).iloc[0].stock_concentration#.convert_dtypes().dtypes"
   ]
  },
  {
   "cell_type": "code",
   "execution_count": 6,
   "metadata": {},
   "outputs": [
    {
     "name": "stdout",
     "output_type": "stream",
     "text": [
      "Unable to open file: c:\\Users\\nb\\Dropbox\\PC\\Desktop\\share\\git\\stepped-dpu\\incremental_changes\\stepped-dpu\\experiment\\template\\data\\growthrate\\vial2_growthrate.txt\n",
      "\tError: [Errno 2] No such file or directory: 'c:\\\\Users\\\\nb\\\\Dropbox\\\\PC\\\\Desktop\\\\share\\\\git\\\\stepped-dpu\\\\incremental_changes\\\\stepped-dpu\\\\experiment\\\\template\\\\data\\\\growthrate\\\\vial2_growthrate.txt'\n"
     ]
    },
    {
     "data": {
      "text/plain": [
       "array([], dtype=float64)"
      ]
     },
     "execution_count": 6,
     "metadata": {},
     "output_type": "execute_result"
    }
   ],
   "source": [
    "fu.get_last_n_lines('growthrate', 2, 3 * 2, EXP_DIR)"
   ]
  },
  {
   "cell_type": "code",
   "execution_count": 7,
   "metadata": {},
   "outputs": [
    {
     "name": "stdout",
     "output_type": "stream",
     "text": [
      "Fluidics Message: ['--', '--', '--', '--', '--', '--', '--', '--', '--', '--', '--', '--', '--', '--', '--', '--', '--', '--', '--', '--', '--', '--', '--', '--', '--', '--', '--', '--', '--', '--', '--', '--', '--', '--', '--', '--', '--', '--', '--', '--', '--', '--', '--', '--', '--', '--', '--', '--']\n"
     ]
    }
   ],
   "source": [
    "def multi_vial_control(vials, exp_dir, dilution_window, elapsed_time, logger, eVOLVER, time_out, VOLUME, lower_thresh, flow_rate, bolus_slow):\n",
    "    \"\"\"\n",
    "    Controls multiple vials using the SteppedController class.\n",
    "\n",
    "    Parameters:\n",
    "    - vials: List of vial numbers to control.\n",
    "    - exp_dir: Path to the experiment directory.\n",
    "    - dilution_window: Number of data points for dilution calculations.\n",
    "    - elapsed_time: Time since the start of the experiment (in hours).\n",
    "    - logger: Logger instance for logging events and actions.\n",
    "    - eVOLVER: eVOLVER instance for hardware interaction.\n",
    "\n",
    "    Returns:\n",
    "    - MESSAGE: Combined fluidics command for all vials.\n",
    "    \"\"\"\n",
    "    MESSAGE = ['--'] * 48  # Initialize the MESSAGE array for fluidics commands\n",
    "\n",
    "    for vial in vials:\n",
    "        try:\n",
    "            # Create a SteppedController instance for the current vial\n",
    "            controller = step_control.SteppedController(vial, exp_dir, dilution_window, logger, elapsed_time, eVOLVER)\n",
    "\n",
    "            # Perform control operations for this vial\n",
    "            MESSAGE = controller.control(MESSAGE, time_out, VOLUME, lower_thresh, flow_rate, bolus_slow)\n",
    "\n",
    "        except Exception as e:\n",
    "            logger.error(f\"Error controlling selection in vial {vial}: {e}\")\n",
    "\n",
    "    return MESSAGE\n",
    "\n",
    "# Example setup\n",
    "vials = [2]  # List of vials to control\n",
    "dilution_window = 3\n",
    "elapsed_time = 470  # Replace with actual elapsed time\n",
    "\n",
    "# Fluidics parameters\n",
    "time_out = 5\n",
    "VOLUME = 20\n",
    "lower_thresh = 1.6\n",
    "flow_rate = eVOLVER.get_flow_rate()\n",
    "bolus_slow = 0.1\n",
    "\n",
    "# Call the multi-vial control function\n",
    "MESSAGE = multi_vial_control(vials, EXP_DIR, dilution_window, elapsed_time, logger, eVOLVER, time_out, VOLUME, lower_thresh, flow_rate, bolus_slow)\n",
    "print(\"Fluidics Message:\", MESSAGE)"
   ]
  },
  {
   "cell_type": "code",
   "execution_count": 8,
   "metadata": {},
   "outputs": [
    {
     "name": "stdout",
     "output_type": "stream",
     "text": [
      "Total time taken to run the function 1000 times: 0.0 seconds\n",
      "Average time per iteration: 0.0 seconds\n"
     ]
    }
   ],
   "source": [
    "import time\n",
    "\n",
    "def time_function(iterations, func, *args, **kwargs):\n",
    "    \"\"\"\n",
    "    Measure the time it takes to run a function a specified number of times.\n",
    "\n",
    "    Parameters:\n",
    "    - iterations: Number of times to run the function.\n",
    "    - func: The function to be timed.\n",
    "    - *args: Positional arguments to pass to the function.\n",
    "    - **kwargs: Keyword arguments to pass to the function.\n",
    "\n",
    "    Returns:\n",
    "    - elapsed_time: Total time in seconds it took to run the function the specified number of times.\n",
    "    - time_per_iteration: Average time per iteration in seconds.\n",
    "    \"\"\"\n",
    "    start_time = time.time()\n",
    "    for _ in range(iterations):\n",
    "        func(*args, **kwargs)\n",
    "    end_time = time.time()\n",
    "    elapsed_time = end_time - start_time\n",
    "    time_per_iteration = elapsed_time / iterations\n",
    "    return elapsed_time, time_per_iteration\n",
    "\n",
    "# Example usage:\n",
    "# Define a sample function to be timed\n",
    "def sample_function(x):\n",
    "    return x ** 2\n",
    "\n",
    "# Measure the time it takes to run sample_function 1000 times\n",
    "iterations = 1000\n",
    "elapsed_time, time_per_iteration = time_function(iterations, sample_function, 10)\n",
    "print(f\"Total time taken to run the function {iterations} times: {elapsed_time} seconds\")\n",
    "print(f\"Average time per iteration: {time_per_iteration} seconds\")"
   ]
  }
 ],
 "metadata": {
  "kernelspec": {
   "display_name": "base",
   "language": "python",
   "name": "python3"
  },
  "language_info": {
   "codemirror_mode": {
    "name": "ipython",
    "version": 3
   },
   "file_extension": ".py",
   "mimetype": "text/x-python",
   "name": "python",
   "nbconvert_exporter": "python",
   "pygments_lexer": "ipython3",
   "version": "3.9.12"
  }
 },
 "nbformat": 4,
 "nbformat_minor": 4
}
