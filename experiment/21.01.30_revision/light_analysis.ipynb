{
 "cells": [
  {
   "cell_type": "code",
   "execution_count": 5,
   "metadata": {},
   "outputs": [],
   "source": [
    "import pandas as pd\n",
    "import numpy as np\n",
    "import matplotlib.pyplot as plt\n",
    "import seaborn as sns\n",
    "import matplotlib.style as style\n",
    "import os\n",
    "from collections import deque"
   ]
  },
  {
   "cell_type": "code",
   "execution_count": 6,
   "metadata": {},
   "outputs": [],
   "source": [
    "lightunit = \"ppfd\"\n",
    "lightname = 'Light [{}]'.format(lightunit)\n",
    "timename = \"Time [hr]\"\n",
    "doublename = \"Doubling Time [hr]\"\n",
    "maxname = \"Max Growth Rate [doublings/hr]\"\n",
    "odtype = \"680\" # which OD to use\n",
    "odname = \"OD(\"+odtype+\"nm)\"\n",
    "volume = 25 #vial culture volume\n",
    "\n",
    "exptname = 'test_expt'\n",
    "save_folder = exptname+'_analysis'"
   ]
  },
  {
   "cell_type": "code",
   "execution_count": 34,
   "metadata": {},
   "outputs": [],
   "source": [
    "path = os.getcwd()\n",
    "save_path = os.path.join(path,save_folder)\n",
    "vial_nums = [3] # which vials to analyze\n",
    "strain1 = 'PCC_11801'\n",
    "strain2 = ''\n",
    "vial_to_strain = {\n",
    "           0: 0,\n",
    "           1: 0,\n",
    "           2: 0,\n",
    "           3: 0,\n",
    "           4: strain1,\n",
    "           5: 0,\n",
    "           6: 0,\n",
    "           7: 0,\n",
    "           8: 0,\n",
    "           9: 0,\n",
    "           10: 0,\n",
    "           11: 0,\n",
    "           12: 0,\n",
    "           13: 0,\n",
    "           14: 0,\n",
    "           15: 0\n",
    "          }"
   ]
  },
  {
   "cell_type": "code",
   "execution_count": 35,
   "metadata": {
    "scrolled": false
   },
   "outputs": [
    {
     "name": "stdout",
     "output_type": "stream",
     "text": [
      "[[            nan             nan]\n",
      " [ 3.40000000e-03  0.00000000e+00]\n",
      " [ 9.00000000e-03  1.61541800e-05]\n",
      " [ 1.46000000e-02  1.93852844e-05]\n",
      " [ 2.02000000e-02  9.69223967e-06]\n",
      " [ 2.57000000e-02  6.46140367e-06]\n",
      " [ 3.12000000e-02  1.93852844e-05]\n",
      " [ 3.68000000e-02 -1.29217341e-05]\n",
      " [ 4.23000000e-02  1.61541800e-05]\n",
      " [ 4.79000000e-02  1.93852844e-05]\n",
      " [ 5.35000000e-02  3.23105966e-05]\n",
      " [ 5.90000000e-02  2.58477616e-05]\n",
      " [ 6.46000000e-02  6.46140367e-06]\n",
      " [ 6.99000000e-02  9.69223967e-06]\n",
      " [ 7.58000000e-02  1.61541800e-05]\n",
      " [ 8.12000000e-02  1.29231651e-05]\n",
      " [ 8.67000000e-02  3.87737896e-05]\n",
      " [ 9.22000000e-02  0.00000000e+00]\n",
      " [ 9.77000000e-02  1.93852844e-05]\n",
      " [ 1.03500000e-01  1.93852844e-05]\n",
      " [ 1.09000000e-01  0.00000000e+00]\n",
      " [ 1.14600000e-01  1.61541800e-05]\n",
      " [ 1.20100000e-01  9.69223967e-06]\n",
      " [ 1.25700000e-01  2.26164782e-05]\n",
      " [ 1.31200000e-01  1.93852844e-05]\n",
      " [ 1.36600000e-01  2.58477616e-05]\n",
      " [ 1.42200000e-01  1.61541800e-05]\n",
      " [ 1.58900000e-01  1.93852844e-05]\n",
      " [ 1.81300000e-01  1.93852844e-05]\n",
      " [ 1.86600000e-01  2.26164782e-05]\n",
      " [ 1.92200000e-01  1.61541800e-05]\n",
      " [ 3.53300000e-01  2.26164782e-05]\n",
      " [ 3.58900000e-01  2.58477616e-05]\n",
      " [ 3.64400000e-01  1.93852844e-05]\n",
      " [ 3.70000000e-01  6.46140367e-06]\n",
      " [ 3.75500000e-01  9.69223967e-06]\n",
      " [ 3.81100000e-01  2.58477616e-05]\n",
      " [ 3.86600000e-01  6.46140367e-06]\n",
      " [ 3.92200000e-01  2.26164782e-05]\n",
      " [ 3.97700000e-01  6.46140367e-06]\n",
      " [ 4.03300000e-01  1.93852844e-05]\n",
      " [ 4.08800000e-01  3.23105966e-05]\n",
      " [ 4.14400000e-01  0.00000000e+00]\n",
      " [ 4.19900000e-01  2.26164782e-05]\n",
      " [ 4.25700000e-01  2.58477616e-05]\n",
      " [ 4.31000000e-01  9.69223967e-06]\n",
      " [ 4.36900000e-01  6.46140367e-06]\n",
      " [ 4.42100000e-01  1.93852844e-05]\n",
      " [ 4.48000000e-01  2.26164782e-05]\n",
      " [ 4.53300000e-01  3.23065711e-06]\n",
      " [ 4.58800000e-01  9.69223967e-06]\n",
      " [ 4.64400000e-01  3.23065711e-06]\n",
      " [ 4.70000000e-01  1.61541800e-05]\n",
      " [ 4.75500000e-01  9.69223967e-06]\n",
      " [ 4.81000000e-01  1.29231651e-05]\n",
      " [ 4.86600000e-01  3.23065711e-06]\n",
      " [ 4.92100000e-01  3.55421484e-05]\n",
      " [ 4.98000000e-01  2.58477616e-05]\n",
      " [ 5.03200000e-01  2.58477616e-05]]\n"
     ]
    }
   ],
   "source": [
    "for x in vial_to_strain.keys():\n",
    "    if vial_to_strain[x] == 0:\n",
    "        continue\n",
    "        \n",
    "    od_path = \"%s/%s/OD/vial%d_OD.txt\" % (path, exptname, x)\n",
    "    od_data = np.genfromtxt(od_path, delimiter=',')\n",
    "    odx = od_data[:, 0]\n",
    "    ody = od_data[:, 1]\n",
    "    od_last = np.median(ody[-7:])\n",
    "    \n",
    "    \n",
    "    light_path = \"%s/%s/OD/vial%d_OD_light.txt\" % (path, exptname, x)\n",
    "    light_data = np.genfromtxt(light_path, delimiter=',')\n",
    "    lightx = light_data[:, 0]\n",
    "    lighty = light_data[:, 1]\n",
    "    light_last = np.median(lighty[-7:])\n",
    "    \n",
    "    bubble_path = \"%s/%s/OD/vial%d_OD_bubble.txt\" % (path, exptname, x)\n",
    "    light_data = np.genfromtxt(od_path, delimiter=',')\n",
    "    lightx = od_data[:, 0]\n",
    "    lighty = od_data[:, 1]\n",
    "    light_last = np.median(ody[-7:])\n",
    "    \n",
    "    \n",
    "    title = 'Smoothed Average OD'\n",
    "    plt.figure(figsize=(8,5), dpi=150)\n",
    "    palette = sns.color_palette(\"rainbow_r\", lightcons)\n",
    "    g = sns.lineplot(x=hourname, y=odname,\n",
    "                 hue=lightname,\n",
    "                 palette=palette,data=smooth).set_title(title)"
   ]
  },
  {
   "cell_type": "code",
   "execution_count": 44,
   "metadata": {},
   "outputs": [
    {
     "name": "stderr",
     "output_type": "stream",
     "text": [
      "<ipython-input-44-925d2b6931f4>:5: RuntimeWarning: invalid value encountered in log10\n",
      "  ((np.log10((od_coefficients[1] - od_coefficients[0]) /\n"
     ]
    },
    {
     "data": {
      "text/plain": [
       "nan"
      ]
     },
     "execution_count": 44,
     "metadata": {},
     "output_type": "execute_result"
    }
   ],
   "source": [
    "od_coefficients=[23349.078211301374, 100292385.68670042, -1.5563049794724384, -2.9791575207903462]\n",
    "x=21611.0\n",
    "\n",
    "np.real(od_coefficients[2] -\n",
    "                            ((np.log10((od_coefficients[1] - od_coefficients[0]) /\n",
    "                                        (float(x) - od_coefficients[0])-1)) /\n",
    "                                        od_coefficients[3]))\n",
    "#                     print(\"OD TRANSFORM:\",x,od_coefficients,od_data[x])"
   ]
  },
  {
   "cell_type": "code",
   "execution_count": 45,
   "metadata": {},
   "outputs": [
    {
     "name": "stderr",
     "output_type": "stream",
     "text": [
      "<ipython-input-45-c657e868612f>:1: RuntimeWarning: invalid value encountered in log10\n",
      "  np.log10((od_coefficients[1] - od_coefficients[0]) / (float(x) - od_coefficients[0])-1)\n"
     ]
    },
    {
     "data": {
      "text/plain": [
       "nan"
      ]
     },
     "execution_count": 45,
     "metadata": {},
     "output_type": "execute_result"
    }
   ],
   "source": [
    "#         100,292,385.           23,349.0             21,611      23,349\n",
    "np.log10((od_coefficients[1] - od_coefficients[0]) / (float(x) - od_coefficients[0])-1)"
   ]
  },
  {
   "cell_type": "code",
   "execution_count": 51,
   "metadata": {},
   "outputs": [
    {
     "data": {
      "text/plain": [
       "100269036.60848911"
      ]
     },
     "execution_count": 51,
     "metadata": {},
     "output_type": "execute_result"
    }
   ],
   "source": [
    "a = od_coefficients[1] - od_coefficients[0]\n",
    "a"
   ]
  },
  {
   "cell_type": "code",
   "execution_count": 52,
   "metadata": {},
   "outputs": [
    {
     "data": {
      "text/plain": [
       "-1738.0782113013738"
      ]
     },
     "execution_count": 52,
     "metadata": {},
     "output_type": "execute_result"
    }
   ],
   "source": [
    "b = float(x) - od_coefficients[0]\n",
    "b"
   ]
  },
  {
   "cell_type": "code",
   "execution_count": 53,
   "metadata": {},
   "outputs": [
    {
     "data": {
      "text/plain": [
       "-57689.599902074246"
      ]
     },
     "execution_count": 53,
     "metadata": {},
     "output_type": "execute_result"
    }
   ],
   "source": [
    "a/b"
   ]
  },
  {
   "cell_type": "code",
   "execution_count": null,
   "metadata": {},
   "outputs": [],
   "source": []
  }
 ],
 "metadata": {
  "kernelspec": {
   "display_name": "Python 3",
   "language": "python",
   "name": "python3"
  },
  "language_info": {
   "codemirror_mode": {
    "name": "ipython",
    "version": 3
   },
   "file_extension": ".py",
   "mimetype": "text/x-python",
   "name": "python",
   "nbconvert_exporter": "python",
   "pygments_lexer": "ipython3",
   "version": "3.8.3"
  }
 },
 "nbformat": 4,
 "nbformat_minor": 4
}
